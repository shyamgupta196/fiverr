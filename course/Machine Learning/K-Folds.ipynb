{
 "cells": [
  {
   "cell_type": "code",
   "execution_count": null,
   "id": "6194f1e3",
   "metadata": {},
   "outputs": [],
   "source": [
    "from sklearn.datasets import load_boston\n",
    "from sklearn.model_selection import KFold, cross_val_score\n",
    "from sklearn.linear_model import LinearRegression\n",
    "\n",
    "# Load the Boston Housing dataset\n",
    "boston = load_boston()\n",
    "X, y = boston.data, boston.target\n",
    "\n",
    "# Set the number of folds for K-fold cross-validation\n",
    "n_folds = 5\n",
    "\n",
    "# Create a Linear Regression model\n",
    "model = LinearRegression()\n",
    "\n",
    "# Perform K-fold cross-validation\n",
    "kf = KFold(n_splits=n_folds, shuffle=True, random_state=42)\n",
    "kfold_scores = cross_val_score(model, X, y, cv=kf)\n",
    "\n",
    "# Perform cross-validation using model_selection.cross_val_score\n",
    "crossval_scores = cross_val_score(model, X, y, cv=n_folds)\n",
    "\n",
    "# Compare the scores\n",
    "avg_kfold_score = kfold_scores.mean()\n",
    "avg_crossval_score = crossval_scores.mean()\n",
    "\n",
    "print(f\"K-fold cross-validation scores: {kfold_scores}\")\n",
    "print(f\"Average K-fold cross-validation score: {avg_kfold_score}\")\n",
    "\n",
    "print(f\"Cross-validation scores with cross_val_score: {crossval_scores}\")\n",
    "print(f\"Average cross-validation score with cross_val_score: {avg_crossval_score}\")\n",
    "\n",
    "# Compare the results and state which one is better\n",
    "if avg_kfold_score > avg_crossval_score:\n",
    "    print(\"K-fold cross-validation performs better.\")\n",
    "else:\n",
    "    print(\"Cross-validation with cross_val_score performs better.\")\n"
   ]
  }
 ],
 "metadata": {
  "kernelspec": {
   "display_name": "Python 3 (ipykernel)",
   "language": "python",
   "name": "python3"
  },
  "language_info": {
   "codemirror_mode": {
    "name": "ipython",
    "version": 3
   },
   "file_extension": ".py",
   "mimetype": "text/x-python",
   "name": "python",
   "nbconvert_exporter": "python",
   "pygments_lexer": "ipython3",
   "version": "3.8.10"
  }
 },
 "nbformat": 4,
 "nbformat_minor": 5
}
